{
 "cells": [
  {
   "cell_type": "code",
   "execution_count": 1,
   "metadata": {
    "_cell_guid": "b1076dfc-b9ad-4769-8c92-a6c4dae69d19",
    "_uuid": "8f2839f25d086af736a60e9eeb907d3b93b6e0e5",
    "execution": {
     "iopub.execute_input": "2024-02-18T10:01:40.619626Z",
     "iopub.status.busy": "2024-02-18T10:01:40.619255Z",
     "iopub.status.idle": "2024-02-18T10:01:41.986365Z",
     "shell.execute_reply": "2024-02-18T10:01:41.985004Z",
     "shell.execute_reply.started": "2024-02-18T10:01:40.619597Z"
    }
   },
   "outputs": [
    {
     "name": "stdout",
     "output_type": "stream",
     "text": [
      "/kaggle/input/digit-recognizer/sample_submission.csv\n",
      "/kaggle/input/digit-recognizer/train.csv\n",
      "/kaggle/input/digit-recognizer/test.csv\n"
     ]
    }
   ],
   "source": [
    "# This Python 3 environment comes with many helpful analytics libraries installed\n",
    "# It is defined by the kaggle/python Docker image: https://github.com/kaggle/docker-python\n",
    "# For example, here's several helpful packages to load\n",
    "\n",
    "import numpy as np # linear algebra\n",
    "import pandas as pd # data processing, CSV file I/O (e.g. pd.read_csv)\n",
    "\n",
    "# Input data files are available in the read-only \"../input/\" directory\n",
    "# For example, running this (by clicking run or pressing Shift+Enter) will list all files under the input directory\n",
    "\n",
    "import os\n",
    "for dirname, _, filenames in os.walk('/kaggle/input'):\n",
    "    for filename in filenames:\n",
    "        print(os.path.join(dirname, filename))\n",
    "\n",
    "# You can write up to 20GB to the current directory (/kaggle/working/) that gets preserved as output when you create a version using \"Save & Run All\" \n",
    "# You can also write temporary files to /kaggle/temp/, but they won't be saved outside of the current session"
   ]
  },
  {
   "cell_type": "code",
   "execution_count": 2,
   "metadata": {
    "execution": {
     "iopub.execute_input": "2024-02-18T10:01:44.540012Z",
     "iopub.status.busy": "2024-02-18T10:01:44.539488Z",
     "iopub.status.idle": "2024-02-18T10:02:01.961283Z",
     "shell.execute_reply": "2024-02-18T10:02:01.960003Z",
     "shell.execute_reply.started": "2024-02-18T10:01:44.539978Z"
    }
   },
   "outputs": [
    {
     "name": "stderr",
     "output_type": "stream",
     "text": [
      "2024-02-18 10:01:47.182574: E external/local_xla/xla/stream_executor/cuda/cuda_dnn.cc:9261] Unable to register cuDNN factory: Attempting to register factory for plugin cuDNN when one has already been registered\n",
      "2024-02-18 10:01:47.182871: E external/local_xla/xla/stream_executor/cuda/cuda_fft.cc:607] Unable to register cuFFT factory: Attempting to register factory for plugin cuFFT when one has already been registered\n",
      "2024-02-18 10:01:47.385033: E external/local_xla/xla/stream_executor/cuda/cuda_blas.cc:1515] Unable to register cuBLAS factory: Attempting to register factory for plugin cuBLAS when one has already been registered\n"
     ]
    },
    {
     "name": "stdout",
     "output_type": "stream",
     "text": [
      "[name: \"/device:CPU:0\"\n",
      "device_type: \"CPU\"\n",
      "memory_limit: 268435456\n",
      "locality {\n",
      "}\n",
      "incarnation: 12800904119986964130\n",
      "xla_global_id: -1\n",
      "]\n"
     ]
    }
   ],
   "source": [
    "# Checking Available Devices\n",
    "import tensorflow as tf\n",
    "from tensorflow.python.client import device_lib\n",
    "print(device_lib.list_local_devices())"
   ]
  },
  {
   "cell_type": "code",
   "execution_count": 3,
   "metadata": {
    "execution": {
     "iopub.execute_input": "2024-02-18T10:02:01.966206Z",
     "iopub.status.busy": "2024-02-18T10:02:01.964378Z",
     "iopub.status.idle": "2024-02-18T10:02:08.879677Z",
     "shell.execute_reply": "2024-02-18T10:02:08.878653Z",
     "shell.execute_reply.started": "2024-02-18T10:02:01.966123Z"
    }
   },
   "outputs": [],
   "source": [
    "train=pd.read_csv(\"/kaggle/input/digit-recognizer/train.csv\")\n",
    "test=pd.read_csv(\"/kaggle/input/digit-recognizer/test.csv\")"
   ]
  },
  {
   "cell_type": "code",
   "execution_count": 4,
   "metadata": {
    "execution": {
     "iopub.execute_input": "2024-02-18T10:02:08.881989Z",
     "iopub.status.busy": "2024-02-18T10:02:08.880902Z",
     "iopub.status.idle": "2024-02-18T10:02:08.886431Z",
     "shell.execute_reply": "2024-02-18T10:02:08.885530Z",
     "shell.execute_reply.started": "2024-02-18T10:02:08.881955Z"
    }
   },
   "outputs": [],
   "source": [
    "# Import required Packages\n",
    "import numpy as np\n",
    "import pandas as pd\n",
    "import keras\n",
    "import tensorflow as tf"
   ]
  },
  {
   "cell_type": "code",
   "execution_count": 5,
   "metadata": {
    "execution": {
     "iopub.execute_input": "2024-02-18T10:02:08.890498Z",
     "iopub.status.busy": "2024-02-18T10:02:08.889120Z",
     "iopub.status.idle": "2024-02-18T10:02:09.037790Z",
     "shell.execute_reply": "2024-02-18T10:02:09.036803Z",
     "shell.execute_reply.started": "2024-02-18T10:02:08.890464Z"
    }
   },
   "outputs": [],
   "source": [
    "x_train = train.drop(['label'],axis=1).values\n",
    "y_train = train['label']"
   ]
  },
  {
   "cell_type": "code",
   "execution_count": 6,
   "metadata": {
    "execution": {
     "iopub.execute_input": "2024-02-18T10:02:09.039671Z",
     "iopub.status.busy": "2024-02-18T10:02:09.039317Z",
     "iopub.status.idle": "2024-02-18T10:02:09.048120Z",
     "shell.execute_reply": "2024-02-18T10:02:09.046962Z",
     "shell.execute_reply.started": "2024-02-18T10:02:09.039641Z"
    }
   },
   "outputs": [
    {
     "data": {
      "text/plain": [
       "(42000, 28, 28)"
      ]
     },
     "execution_count": 6,
     "metadata": {},
     "output_type": "execute_result"
    }
   ],
   "source": [
    "x_train = x_train.reshape(len(x_train),28,28)\n",
    "x_train.shape"
   ]
  },
  {
   "cell_type": "code",
   "execution_count": 7,
   "metadata": {
    "execution": {
     "iopub.execute_input": "2024-02-18T10:02:09.049662Z",
     "iopub.status.busy": "2024-02-18T10:02:09.049350Z",
     "iopub.status.idle": "2024-02-18T10:02:09.324182Z",
     "shell.execute_reply": "2024-02-18T10:02:09.323258Z",
     "shell.execute_reply.started": "2024-02-18T10:02:09.049635Z"
    }
   },
   "outputs": [
    {
     "data": {
      "text/plain": [
       "<matplotlib.image.AxesImage at 0x784af66c7fa0>"
      ]
     },
     "execution_count": 7,
     "metadata": {},
     "output_type": "execute_result"
    },
    {
     "data": {
      "image/png": "[encoded data removed]",
      "text/plain": [
       "<Figure size 640x480 with 1 Axes>"
      ]
     },
     "metadata": {},
     "output_type": "display_data"
    }
   ],
   "source": [
    "import matplotlib.pyplot as plt\n",
    "plt.imshow(x_train[0],cmap='Greys')"
   ]
  },
  {
   "cell_type": "code",
   "execution_count": 8,
   "metadata": {
    "execution": {
     "iopub.execute_input": "2024-02-18T10:02:09.326699Z",
     "iopub.status.busy": "2024-02-18T10:02:09.325639Z",
     "iopub.status.idle": "2024-02-18T10:02:09.332800Z",
     "shell.execute_reply": "2024-02-18T10:02:09.331253Z",
     "shell.execute_reply.started": "2024-02-18T10:02:09.326661Z"
    }
   },
   "outputs": [],
   "source": [
    "x_train = x_train.reshape(42000,28,28,1)"
   ]
  },
  {
   "cell_type": "code",
   "execution_count": 9,
   "metadata": {
    "execution": {
     "iopub.execute_input": "2024-02-18T10:02:09.335777Z",
     "iopub.status.busy": "2024-02-18T10:02:09.335054Z",
     "iopub.status.idle": "2024-02-18T10:02:09.542035Z",
     "shell.execute_reply": "2024-02-18T10:02:09.541016Z",
     "shell.execute_reply.started": "2024-02-18T10:02:09.335728Z"
    }
   },
   "outputs": [],
   "source": [
    "from keras.models import Sequential\n",
    "from keras.layers import Dense, Flatten, Conv2D, MaxPooling2D\n",
    "from tensorflow.keras import layers,models"
   ]
  },
  {
   "cell_type": "code",
   "execution_count": 14,
   "metadata": {
    "execution": {
     "iopub.execute_input": "2024-02-18T10:06:47.842407Z",
     "iopub.status.busy": "2024-02-18T10:06:47.841972Z",
     "iopub.status.idle": "2024-02-18T10:06:47.968303Z",
     "shell.execute_reply": "2024-02-18T10:06:47.967118Z",
     "shell.execute_reply.started": "2024-02-18T10:06:47.842372Z"
    }
   },
   "outputs": [],
   "source": [
    "cnn = models.Sequential([\n",
    "    layers.Conv2D(filters=32, kernel_size=(2, 2), activation='relu', input_shape=(28, 28, 1)),\n",
    "    layers.MaxPooling2D((2, 2)),\n",
    "    layers.Conv2D(filters=64, kernel_size=(2, 2), activation='relu'),\n",
    "    layers.MaxPooling2D((2, 2)),\n",
    "    \n",
    "    layers.Flatten(),\n",
    "    layers.Dense(64, activation='relu'),\n",
    "    layers.Dropout(0.3),\n",
    "    layers.Dense(32, activation='relu'),\n",
    "    layers.Dropout(0.2),\n",
    "    layers.Dense(10, activation='softmax')\n",
    "])\n",
    "\n",
    "cnn.compile(optimizer='adam',\n",
    "               loss='sparse_categorical_crossentropy',\n",
    "               metrics=['accuracy'])"
   ]
  },
  {
   "cell_type": "code",
   "execution_count": 15,
   "metadata": {
    "execution": {
     "iopub.execute_input": "2024-02-18T10:06:50.392925Z",
     "iopub.status.busy": "2024-02-18T10:06:50.392508Z",
     "iopub.status.idle": "2024-02-18T10:06:50.433920Z",
     "shell.execute_reply": "2024-02-18T10:06:50.432647Z",
     "shell.execute_reply.started": "2024-02-18T10:06:50.392891Z"
    }
   },
   "outputs": [
    {
     "name": "stdout",
     "output_type": "stream",
     "text": [
      "Model: \"sequential_1\"\n",
      "_________________________________________________________________\n",
      " Layer (type)                Output Shape              Param #   \n",
      "=================================================================\n",
      " conv2d_1 (Conv2D)           (None, 27, 27, 32)        160       \n",
      "                                                                 \n",
      " max_pooling2d_1 (MaxPoolin  (None, 13, 13, 32)        0         \n",
      " g2D)                                                            \n",
      "                                                                 \n",
      " conv2d_2 (Conv2D)           (None, 12, 12, 64)        8256      \n",
      "                                                                 \n",
      " max_pooling2d_2 (MaxPoolin  (None, 6, 6, 64)          0         \n",
      " g2D)                                                            \n",
      "                                                                 \n",
      " flatten (Flatten)           (None, 2304)              0         \n",
      "                                                                 \n",
      " dense_2 (Dense)             (None, 64)                147520    \n",
      "                                                                 \n",
      " dropout_1 (Dropout)         (None, 64)                0         \n",
      "                                                                 \n",
      " dense_3 (Dense)             (None, 32)                2080      \n",
      "                                                                 \n",
      " dropout_2 (Dropout)         (None, 32)                0         \n",
      "                                                                 \n",
      " dense_4 (Dense)             (None, 10)                330       \n",
      "                                                                 \n",
      "=================================================================\n",
      "Total params: 158346 (618.54 KB)\n",
      "Trainable params: 158346 (618.54 KB)\n",
      "Non-trainable params: 0 (0.00 Byte)\n",
      "_________________________________________________________________\n"
     ]
    }
   ],
   "source": [
    "cnn.summary()"
   ]
  },
  {
   "cell_type": "code",
   "execution_count": 16,
   "metadata": {
    "execution": {
     "iopub.execute_input": "2024-02-18T10:06:58.972881Z",
     "iopub.status.busy": "2024-02-18T10:06:58.972479Z",
     "iopub.status.idle": "2024-02-18T10:10:22.464580Z",
     "shell.execute_reply": "2024-02-18T10:10:22.463291Z",
     "shell.execute_reply.started": "2024-02-18T10:06:58.972849Z"
    }
   },
   "outputs": [
    {
     "name": "stdout",
     "output_type": "stream",
     "text": [
      "Epoch 1/10\n",
      "1050/1050 [==============================] - 19s 17ms/step - loss: 0.9673 - accuracy: 0.7181 - val_loss: 0.1687 - val_accuracy: 0.9556\n",
      "Epoch 2/10\n",
      "1050/1050 [==============================] - 17s 16ms/step - loss: 0.3651 - accuracy: 0.8974 - val_loss: 0.1042 - val_accuracy: 0.9710\n",
      "Epoch 3/10\n",
      "1050/1050 [==============================] - 17s 16ms/step - loss: 0.2338 - accuracy: 0.9335 - val_loss: 0.0899 - val_accuracy: 0.9761\n",
      "Epoch 4/10\n",
      "1050/1050 [==============================] - 17s 16ms/step - loss: 0.1756 - accuracy: 0.9506 - val_loss: 0.0701 - val_accuracy: 0.9814\n",
      "Epoch 5/10\n",
      "1050/1050 [==============================] - 18s 17ms/step - loss: 0.1372 - accuracy: 0.9601 - val_loss: 0.0742 - val_accuracy: 0.9807\n",
      "Epoch 6/10\n",
      "1050/1050 [==============================] - 18s 17ms/step - loss: 0.1219 - accuracy: 0.9641 - val_loss: 0.0736 - val_accuracy: 0.9801\n",
      "Epoch 7/10\n",
      "1050/1050 [==============================] - 17s 17ms/step - loss: 0.1041 - accuracy: 0.9694 - val_loss: 0.0688 - val_accuracy: 0.9843\n",
      "Epoch 8/10\n",
      "1050/1050 [==============================] - 18s 17ms/step - loss: 0.0974 - accuracy: 0.9716 - val_loss: 0.0792 - val_accuracy: 0.9820\n",
      "Epoch 9/10\n",
      "1050/1050 [==============================] - 18s 17ms/step - loss: 0.0932 - accuracy: 0.9732 - val_loss: 0.0710 - val_accuracy: 0.9837\n",
      "Epoch 10/10\n",
      "1050/1050 [==============================] - 17s 17ms/step - loss: 0.0787 - accuracy: 0.9780 - val_loss: 0.0751 - val_accuracy: 0.9831\n"
     ]
    },
    {
     "data": {
      "text/plain": [
       "<keras.src.callbacks.History at 0x784af2e50310>"
      ]
     },
     "execution_count": 16,
     "metadata": {},
     "output_type": "execute_result"
    }
   ],
   "source": [
    "cnn.fit(x_train,y_train,epochs=10, validation_split=0.2)"
   ]
  },
  {
   "cell_type": "code",
   "execution_count": 17,
   "metadata": {
    "execution": {
     "iopub.execute_input": "2024-02-18T10:10:58.666344Z",
     "iopub.status.busy": "2024-02-18T10:10:58.665933Z",
     "iopub.status.idle": "2024-02-18T10:11:04.336643Z",
     "shell.execute_reply": "2024-02-18T10:11:04.335658Z",
     "shell.execute_reply.started": "2024-02-18T10:10:58.666313Z"
    }
   },
   "outputs": [
    {
     "name": "stdout",
     "output_type": "stream",
     "text": [
      "875/875 [==============================] - 5s 5ms/step\n"
     ]
    }
   ],
   "source": [
    "\n",
    "x_test=test.values\n",
    "x_test = x_test.reshape(28000, 28, 28, 1)\n",
    "pred=cnn.predict(x_test)\n",
    "y_test=[np.argmax(element) for element in pred]\n"
   ]
  },
  {
   "cell_type": "code",
   "execution_count": 18,
   "metadata": {
    "execution": {
     "iopub.execute_input": "2024-02-18T10:11:09.521407Z",
     "iopub.status.busy": "2024-02-18T10:11:09.520702Z",
     "iopub.status.idle": "2024-02-18T10:11:10.064481Z",
     "shell.execute_reply": "2024-02-18T10:11:10.063270Z",
     "shell.execute_reply.started": "2024-02-18T10:11:09.521371Z"
    }
   },
   "outputs": [
    {
     "data": {
      "image/png": "[encoded data removed]",
      "text/plain": [
       "<Figure size 1600x200 with 8 Axes>"
      ]
     },
     "metadata": {},
     "output_type": "display_data"
    }
   ],
   "source": [
    "fig, axes = plt.subplots(ncols=8, nrows=1, figsize=(16, 2))\n",
    "for i in range(8):\n",
    "    axes[i].imshow(x_test[i].reshape((28, 28)), cmap='gray') \n",
    "    axes[i].axis('off')\n",
    "    axes[i].set_title(y_test[i])\n",
    "plt.show()\n"
   ]
  },
  {
   "cell_type": "code",
   "execution_count": 2,
   "metadata": {
    "execution": {
     "iopub.execute_input": "2024-02-18T10:12:01.885753Z",
     "iopub.status.busy": "2024-02-18T10:12:01.885310Z",
     "iopub.status.idle": "2024-02-18T10:12:01.933162Z",
     "shell.execute_reply": "2024-02-18T10:12:01.931004Z",
     "shell.execute_reply.started": "2024-02-18T10:12:01.885716Z"
    }
   },
   "outputs": [
    {
     "ename": "NameError",
     "evalue": "name 'cnn' is not defined",
     "output_type": "error",
     "traceback": [
      "\u001b[0;31m---------------------------------------------------------------------------\u001b[0m",
      "\u001b[0;31mNameError\u001b[0m                                 Traceback (most recent call last)",
      "Cell \u001b[0;32mIn [2], line 1\u001b[0m\n\u001b[0;32m----> 1\u001b[0m \u001b[43mcnn\u001b[49m\u001b[38;5;241m.\u001b[39msave(\u001b[38;5;124m'\u001b[39m\u001b[38;5;124mdigit.h5\u001b[39m\u001b[38;5;124m'\u001b[39m)\n",
      "\u001b[0;31mNameError\u001b[0m: name 'cnn' is not defined"
     ]
    }
   ],
   "source": [
    "cnn.save('digit.h5')"
   ]
  },
  {
   "cell_type": "code",
   "execution_count": 1,
   "metadata": {},
   "outputs": [
    {
     "name": "stdout",
     "output_type": "stream",
     "text": [
      "Defaulting to user installation because normal site-packages is not writeable\n",
      "Collecting Tensorflow\n",
      "  Downloading tensorflow-2.15.0.post1-cp310-cp310-manylinux_2_17_x86_64.manylinux2014_x86_64.whl (475.2 MB)\n",
      "\u001b[2K     \u001b[38;2;249;38;114m━━\u001b[0m\u001b[38;2;249;38;114m╸\u001b[0m\u001b[38;5;237m━━━━━━━━━━━━━━━━━━━━━━━━━━━━━━━━━━━━━\u001b[0m \u001b[32m30.4/475.2 MB\u001b[0m \u001b[31m1.6 MB/s\u001b[0m eta \u001b[36m0:04:31\u001b[0m^C\n",
      "\u001b[2K     \u001b[38;2;249;38;114m━━\u001b[0m\u001b[38;2;249;38;114m╸\u001b[0m\u001b[38;5;237m━━━━━━━━━━━━━━━━━━━━━━━━━━━━━━━━━━━━━\u001b[0m \u001b[32m30.4/475.2 MB\u001b[0m \u001b[31m1.6 MB/s\u001b[0m eta \u001b[36m0:04:33\u001b[0m\n",
      "\u001b[?25h\u001b[31mERROR: Operation cancelled by user\u001b[0m\u001b[31m\n",
      "\u001b[0m"
     ]
    }
   ],
   "source": [
    "!pip install Tensorflow\n"
   ]
  },
  {
   "cell_type": "code",
   "execution_count": 33,
   "metadata": {
    "execution": {
     "iopub.execute_input": "2024-02-02T18:17:58.967240Z",
     "iopub.status.busy": "2024-02-02T18:17:58.966730Z",
     "iopub.status.idle": "2024-02-02T18:17:58.974171Z",
     "shell.execute_reply": "2024-02-02T18:17:58.972735Z",
     "shell.execute_reply.started": "2024-02-02T18:17:58.967205Z"
    }
   },
   "outputs": [],
   "source": [
    "x = np.zeros((10,10))"
   ]
  },
  {
   "cell_type": "code",
   "execution_count": 58,
   "metadata": {
    "execution": {
     "iopub.execute_input": "2024-02-02T18:29:03.503582Z",
     "iopub.status.busy": "2024-02-02T18:29:03.503127Z",
     "iopub.status.idle": "2024-02-02T18:29:03.508862Z",
     "shell.execute_reply": "2024-02-02T18:29:03.507813Z",
     "shell.execute_reply.started": "2024-02-02T18:29:03.503551Z"
    }
   },
   "outputs": [],
   "source": [
    "x[:,:] = 255"
   ]
  },
  {
   "cell_type": "code",
   "execution_count": 61,
   "metadata": {
    "execution": {
     "iopub.execute_input": "2024-02-02T18:30:12.944596Z",
     "iopub.status.busy": "2024-02-02T18:30:12.943466Z",
     "iopub.status.idle": "2024-02-02T18:30:12.949859Z",
     "shell.execute_reply": "2024-02-02T18:30:12.948895Z",
     "shell.execute_reply.started": "2024-02-02T18:30:12.944554Z"
    }
   },
   "outputs": [],
   "source": [
    "x[2:8,2:8] = 0\n",
    "#x[2:8,2:8] = 0\n",
    "x[3:7,3:7] = 255\n",
    "#x[3:7,3:7] = 255"
   ]
  },
  {
   "cell_type": "code",
   "execution_count": 62,
   "metadata": {
    "execution": {
     "iopub.execute_input": "2024-02-02T18:30:17.247338Z",
     "iopub.status.busy": "2024-02-02T18:30:17.246936Z",
     "iopub.status.idle": "2024-02-02T18:30:17.442988Z",
     "shell.execute_reply": "2024-02-02T18:30:17.441339Z",
     "shell.execute_reply.started": "2024-02-02T18:30:17.247307Z"
    }
   },
   "outputs": [
    {
     "data": {
      "text/plain": [
       "<matplotlib.image.AxesImage at 0x7be5fe2d0be0>"
      ]
     },
     "execution_count": 62,
     "metadata": {},
     "output_type": "execute_result"
    },
    {
     "data": {
      "image/png": "[encoded data removed]",
      "text/plain": [
       "<Figure size 640x480 with 1 Axes>"
      ]
     },
     "metadata": {},
     "output_type": "display_data"
    }
   ],
   "source": [
    "plt.imshow(x,cmap='Greys')"
   ]
  },
  {
   "cell_type": "code",
   "execution_count": null,
   "metadata": {},
   "outputs": [],
   "source": []
  }
 ],
 "metadata": {
  "kaggle": {
   "accelerator": "none",
   "dataSources": [
    {
     "databundleVersionId": 861823,
     "sourceId": 3004,
     "sourceType": "competition"
    }
   ],
   "dockerImageVersionId": 30646,
   "isGpuEnabled": false,
   "isInternetEnabled": false,
   "language": "python",
   "sourceType": "notebook"
  },
  "kernelspec": {
   "display_name": "Python 3 (ipykernel)",
   "language": "python",
   "name": "python3"
  },
  "language_info": {
   "codemirror_mode": {
    "name": "ipython",
    "version": 3
   },
   "file_extension": ".py",
   "mimetype": "text/x-python",
   "name": "python",
   "nbconvert_exporter": "python",
   "pygments_lexer": "ipython3",
   "version": "3.10.12"
  }
 },
 "nbformat": 4,
 "nbformat_minor": 4
}
